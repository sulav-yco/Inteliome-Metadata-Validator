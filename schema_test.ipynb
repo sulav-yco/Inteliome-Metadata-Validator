{
 "cells": [
  {
   "cell_type": "markdown",
   "metadata": {},
   "source": [
    "### Format Testing"
   ]
  },
  {
   "cell_type": "code",
   "execution_count": 1,
   "metadata": {},
   "outputs": [],
   "source": [
    "from pyvalidator.format_validator import SchemaWrapper\n",
    "from pyvalidator.format_validator import GeneratedSchema\n",
    "from ruamel.yaml import YAML\n",
    "from ruamel.yaml.constructor import DuplicateKeyError"
   ]
  },
  {
   "cell_type": "code",
   "execution_count": 2,
   "metadata": {},
   "outputs": [
    {
     "name": "stdout",
     "output_type": "stream",
     "text": [
      "Duplicate Key found: while constructing a mapping\n",
      "  in \"./assets/schema/movies.yml\", line 7, column 5\n",
      "found duplicate key \"name\" with value \"{'name': 'content rating', 'type': 'varchar', 'column': 'rating', 'desc': 'Content rating (e.g., R, PG-13)', 'fetch': False}\" (original value: \"{'name': 'title of the movie', 'type': 'varchar', 'column': 'name', 'desc': 'Title of the movie', 'fetch': True}\")\n",
      "  in \"./assets/schema/movies.yml\", line 13, column 5\n",
      "\n",
      "To suppress this check see:\n",
      "    http://yaml.readthedocs.io/en/latest/api.html#duplicate-keys\n",
      "\n"
     ]
    }
   ],
   "source": [
    "import yaml\n",
    "import pydantic\n",
    "\n",
    "file_path = \"./assets/schema/movies.yml\"\n",
    "# file_path = \"./assets/schema/movie.yml\"\n",
    "# file_path = \"./assets/schema/test.yml\"\n",
    "\n",
    "yaml = YAML()\n",
    "\n",
    "try:\n",
    "    with open(file_path,'r') as f:\n",
    "        yaml_file = yaml.load(f)  \n",
    "except DuplicateKeyError as e:\n",
    "    print(f\"Duplicate Key found: {e}\") \n"
   ]
  },
  {
   "cell_type": "code",
   "execution_count": 3,
   "metadata": {},
   "outputs": [
    {
     "ename": "NameError",
     "evalue": "name 'yaml_file' is not defined",
     "output_type": "error",
     "traceback": [
      "\u001b[0;31m---------------------------------------------------------------------------\u001b[0m",
      "\u001b[0;31mNameError\u001b[0m                                 Traceback (most recent call last)",
      "Cell \u001b[0;32mIn[3], line 1\u001b[0m\n\u001b[0;32m----> 1\u001b[0m \u001b[38;5;28mprint\u001b[39m(\u001b[43myaml_file\u001b[49m)\n",
      "\u001b[0;31mNameError\u001b[0m: name 'yaml_file' is not defined"
     ]
    }
   ],
   "source": [
    "print(yaml_file)"
   ]
  },
  {
   "cell_type": "code",
   "execution_count": null,
   "metadata": {},
   "outputs": [
    {
     "name": "stdout",
     "output_type": "stream",
     "text": [
      "{'subject_area': 'movies', 'table_info': [{'table': 'MOVIES', 'joins': []}], 'columns': {'name': {'name': 'content rating', 'type': 'varchar', 'column': 'rating', 'desc': 'Content rating (e.g., R, PG-13)', 'fetch': False}, 'genre': {'name': 'genre of the movie', 'type': 'varchar', 'column': 'genre', 'desc': 'Genre of the movie', 'fetch': True}, 'year': {'name': 'production or release year', 'type': 'int', 'column': 'year', 'desc': 'Original production/release year in home country', 'fetch': True}, 'released_date': {'name': 'release date', 'type': 'date', 'column': 'released_date', 'desc': 'release date of a movie', 'fetch': True}, 'released_country': {'name': 'release country', 'type': 'varchar', 'column': 'released_country', 'desc': 'Country where the movie was released', 'fetch': False}, 'country': {'name': 'production country', 'type': 'varchar', 'column': 'country', 'desc': 'Production country (e.g., Denmark, United States)', 'fetch': False}, 'score': {'name': 'average rating', 'type': 'number', 'column': 'score', 'desc': 'Average rating (e.g., 7.7)', 'fetch': True}, 'votes': {'name': 'number of votes or reviews', 'type': 'int', 'column': 'votes', 'desc': 'Number of votes/reviews', 'fetch': False}, 'budget': {'name': 'production budget', 'type': 'number', 'column': 'budget', 'desc': 'Production budget', 'fetch': False}, 'gross': {'name': 'box office gross', 'type': 'number', 'column': 'gross', 'desc': 'Box office gross', 'fetch': False}, 'director': {'name': 'director of the movie', 'type': 'varchar', 'column': 'director', 'desc': 'Director of the movie', 'fetch': False}, 'writer': {'name': 'screenwriter', 'type': 'varchar', 'column': 'writer', 'desc': 'Screenwriter of the movie', 'fetch': False}, 'star': {'name': 'lead actor', 'type': 'varchar', 'column': 'star', 'desc': 'Lead actor of the movie', 'fetch': True}, 'company': {'name': 'production company', 'type': 'varchar', 'column': 'company', 'desc': 'Production company of the movie', 'fetch': False}, 'runtime': {'name': 'duration in minutes', 'type': 'int', 'column': 'runtime', 'desc': 'Duration of the movie in minutes', 'fetch': True}}}\n",
      "['name', 'genre', 'year', 'released_date', 'released_country', 'country', 'score', 'votes', 'budget', 'gross', 'director', 'writer', 'star', 'company', 'runtime']\n",
      "subject_area='movies' table_info=[TableInfo(table='MOVIES', joins=[])] columns={'name': Column(name='content rating', type='varchar', column='rating', desc='Content rating (e.g., R, PG-13)', primary_key=None, foreign_key=None, table=None, fetch=False), 'genre': Column(name='genre of the movie', type='varchar', column='genre', desc='Genre of the movie', primary_key=None, foreign_key=None, table=None, fetch=True), 'year': Column(name='production or release year', type='int', column='year', desc='Original production/release year in home country', primary_key=None, foreign_key=None, table=None, fetch=True), 'released_date': Column(name='release date', type='date', column='released_date', desc='release date of a movie', primary_key=None, foreign_key=None, table=None, fetch=True), 'released_country': Column(name='release country', type='varchar', column='released_country', desc='Country where the movie was released', primary_key=None, foreign_key=None, table=None, fetch=False), 'country': Column(name='production country', type='varchar', column='country', desc='Production country (e.g., Denmark, United States)', primary_key=None, foreign_key=None, table=None, fetch=False), 'score': Column(name='average rating', type='number', column='score', desc='Average rating (e.g., 7.7)', primary_key=None, foreign_key=None, table=None, fetch=True), 'votes': Column(name='number of votes or reviews', type='int', column='votes', desc='Number of votes/reviews', primary_key=None, foreign_key=None, table=None, fetch=False), 'budget': Column(name='production budget', type='number', column='budget', desc='Production budget', primary_key=None, foreign_key=None, table=None, fetch=False), 'gross': Column(name='box office gross', type='number', column='gross', desc='Box office gross', primary_key=None, foreign_key=None, table=None, fetch=False), 'director': Column(name='director of the movie', type='varchar', column='director', desc='Director of the movie', primary_key=None, foreign_key=None, table=None, fetch=False), 'writer': Column(name='screenwriter', type='varchar', column='writer', desc='Screenwriter of the movie', primary_key=None, foreign_key=None, table=None, fetch=False), 'star': Column(name='lead actor', type='varchar', column='star', desc='Lead actor of the movie', primary_key=None, foreign_key=None, table=None, fetch=True), 'company': Column(name='production company', type='varchar', column='company', desc='Production company of the movie', primary_key=None, foreign_key=None, table=None, fetch=False), 'runtime': Column(name='duration in minutes', type='int', column='runtime', desc='Duration of the movie in minutes', primary_key=None, foreign_key=None, table=None, fetch=True)}\n"
     ]
    }
   ],
   "source": [
    "schema_key = list(yaml_file.keys())[0]\n",
    "        \n",
    "schema = yaml_file[schema_key]\n",
    "print(schema)\n",
    "        \n",
    "\n",
    "schema = GeneratedSchema(**schema)\n",
    "print(schema)"
   ]
  },
  {
   "cell_type": "code",
   "execution_count": null,
   "metadata": {},
   "outputs": [],
   "source": [
    "columns = schema.columns"
   ]
  },
  {
   "cell_type": "code",
   "execution_count": null,
   "metadata": {},
   "outputs": [
    {
     "name": "stdout",
     "output_type": "stream",
     "text": [
      "{'budget': Column(name='production budget', type='number', column='budget', desc='Production budget', primary_key=None, foreign_key=None, table=None, fetch=False),\n",
      " 'company': Column(name='production company', type='varchar', column='company', desc='Production company of the movie', primary_key=None, foreign_key=None, table=None, fetch=False),\n",
      " 'country': Column(name='production country', type='varchar', column='country', desc='Production country (e.g., Denmark, United States)', primary_key=None, foreign_key=None, table=None, fetch=False),\n",
      " 'director': Column(name='director of the movie', type='varchar', column='director', desc='Director of the movie', primary_key=None, foreign_key=None, table=None, fetch=False),\n",
      " 'genre': Column(name='genre of the movie', type='varchar', column='genre', desc='Genre of the movie', primary_key=None, foreign_key=None, table=None, fetch=True),\n",
      " 'gross': Column(name='box office gross', type='number', column='gross', desc='Box office gross', primary_key=None, foreign_key=None, table=None, fetch=False),\n",
      " 'name': Column(name='content rating', type='varchar', column='rating', desc='Content rating (e.g., R, PG-13)', primary_key=None, foreign_key=None, table=None, fetch=False),\n",
      " 'released_country': Column(name='release country', type='varchar', column='released_country', desc='Country where the movie was released', primary_key=None, foreign_key=None, table=None, fetch=False),\n",
      " 'released_date': Column(name='release date', type='date', column='released_date', desc='release date of a movie', primary_key=None, foreign_key=None, table=None, fetch=True),\n",
      " 'runtime': Column(name='duration in minutes', type='int', column='runtime', desc='Duration of the movie in minutes', primary_key=None, foreign_key=None, table=None, fetch=True),\n",
      " 'score': Column(name='average rating', type='number', column='score', desc='Average rating (e.g., 7.7)', primary_key=None, foreign_key=None, table=None, fetch=True),\n",
      " 'star': Column(name='lead actor', type='varchar', column='star', desc='Lead actor of the movie', primary_key=None, foreign_key=None, table=None, fetch=True),\n",
      " 'votes': Column(name='number of votes or reviews', type='int', column='votes', desc='Number of votes/reviews', primary_key=None, foreign_key=None, table=None, fetch=False),\n",
      " 'writer': Column(name='screenwriter', type='varchar', column='writer', desc='Screenwriter of the movie', primary_key=None, foreign_key=None, table=None, fetch=False),\n",
      " 'year': Column(name='production or release year', type='int', column='year', desc='Original production/release year in home country', primary_key=None, foreign_key=None, table=None, fetch=True)}\n"
     ]
    }
   ],
   "source": [
    "from pprint import pprint\n",
    "\n",
    "pprint(columns)"
   ]
  },
  {
   "cell_type": "code",
   "execution_count": null,
   "metadata": {},
   "outputs": [],
   "source": []
  },
  {
   "cell_type": "code",
   "execution_count": null,
   "metadata": {},
   "outputs": [
    {
     "name": "stdout",
     "output_type": "stream",
     "text": [
      "rating\n",
      "genre\n",
      "year\n",
      "released_date\n",
      "released_country\n",
      "country\n",
      "score\n",
      "votes\n",
      "budget\n",
      "gross\n",
      "director\n",
      "writer\n",
      "star\n",
      "company\n",
      "runtime\n"
     ]
    }
   ],
   "source": [
    "for column in columns.values():\n",
    "    print(column.column)"
   ]
  },
  {
   "cell_type": "code",
   "execution_count": null,
   "metadata": {},
   "outputs": [
    {
     "name": "stdout",
     "output_type": "stream",
     "text": [
      "['name', 'genre', 'year', 'released_date', 'released_country', 'country', 'score', 'votes', 'budget', 'gross', 'director', 'writer', 'star', 'company', 'runtime']\n"
     ]
    }
   ],
   "source": [
    "try:\n",
    "    # validator = SchemaWrapper[GeneratedSchema](root={f\"{generated_schema}\": {**data}})\n",
    "    validator = SchemaWrapper[GeneratedSchema](**{\"root\":yaml_file})\n",
    "except pydantic.ValidationError as exc:\n",
    "    print(f\"Validation error\\n {exc}\")"
   ]
  },
  {
   "cell_type": "markdown",
   "metadata": {},
   "source": [
    "### DDL Testing"
   ]
  },
  {
   "cell_type": "code",
   "execution_count": null,
   "metadata": {},
   "outputs": [],
   "source": [
    "from pyvalidator.schema_validator import SchemaValidator"
   ]
  },
  {
   "cell_type": "code",
   "execution_count": null,
   "metadata": {},
   "outputs": [],
   "source": [
    "file_path = \"./assets/DDL/movies.sql\"\n",
    "\n",
    "with open(file_path, 'r') as f:\n",
    "    ddl = f.read() \n",
    "\n",
    "ddl_validator = SchemaValidator(ddl)\n"
   ]
  },
  {
   "cell_type": "code",
   "execution_count": null,
   "metadata": {},
   "outputs": [
    {
     "name": "stdout",
     "output_type": "stream",
     "text": [
      "[{'alter': {},\n",
      "  'checks': [],\n",
      "  'collection_items_terminated_by': None,\n",
      "  'columns': [{'check': None,\n",
      "               'default': None,\n",
      "               'name': 'name',\n",
      "               'nullable': True,\n",
      "               'references': None,\n",
      "               'size': None,\n",
      "               'type': 'VARCHAR',\n",
      "               'unique': False},\n",
      "              {'check': None,\n",
      "               'default': None,\n",
      "               'name': 'genre',\n",
      "               'nullable': True,\n",
      "               'references': None,\n",
      "               'size': None,\n",
      "               'type': 'VARCHAR',\n",
      "               'unique': False},\n",
      "              {'check': None,\n",
      "               'default': None,\n",
      "               'name': 'year',\n",
      "               'nullable': True,\n",
      "               'references': None,\n",
      "               'size': None,\n",
      "               'type': 'INT',\n",
      "               'unique': False},\n",
      "              {'check': None,\n",
      "               'default': None,\n",
      "               'name': 'released_date',\n",
      "               'nullable': True,\n",
      "               'references': None,\n",
      "               'size': None,\n",
      "               'type': 'DATE',\n",
      "               'unique': False},\n",
      "              {'check': None,\n",
      "               'default': None,\n",
      "               'name': 'released_country',\n",
      "               'nullable': True,\n",
      "               'references': None,\n",
      "               'size': None,\n",
      "               'type': 'VARCHAR',\n",
      "               'unique': False},\n",
      "              {'check': None,\n",
      "               'default': None,\n",
      "               'name': 'country',\n",
      "               'nullable': True,\n",
      "               'references': None,\n",
      "               'size': None,\n",
      "               'type': 'VARCHAR',\n",
      "               'unique': False},\n",
      "              {'check': None,\n",
      "               'default': None,\n",
      "               'name': 'score',\n",
      "               'nullable': True,\n",
      "               'references': None,\n",
      "               'size': (10, 2),\n",
      "               'type': 'DECIMAL',\n",
      "               'unique': False},\n",
      "              {'check': None,\n",
      "               'default': None,\n",
      "               'name': 'votes',\n",
      "               'nullable': True,\n",
      "               'references': None,\n",
      "               'size': None,\n",
      "               'type': 'INT',\n",
      "               'unique': False},\n",
      "              {'check': None,\n",
      "               'default': None,\n",
      "               'name': 'budget',\n",
      "               'nullable': True,\n",
      "               'references': None,\n",
      "               'size': (18, 2),\n",
      "               'type': 'DECIMAL',\n",
      "               'unique': False},\n",
      "              {'check': None,\n",
      "               'default': None,\n",
      "               'name': 'gross',\n",
      "               'nullable': True,\n",
      "               'references': None,\n",
      "               'size': (18, 2),\n",
      "               'type': 'DECIMAL',\n",
      "               'unique': False},\n",
      "              {'check': None,\n",
      "               'default': None,\n",
      "               'name': 'director',\n",
      "               'nullable': True,\n",
      "               'references': None,\n",
      "               'size': None,\n",
      "               'type': 'VARCHAR',\n",
      "               'unique': False},\n",
      "              {'check': None,\n",
      "               'default': None,\n",
      "               'name': 'writer',\n",
      "               'nullable': True,\n",
      "               'references': None,\n",
      "               'size': None,\n",
      "               'type': 'VARCHAR',\n",
      "               'unique': False},\n",
      "              {'check': None,\n",
      "               'default': None,\n",
      "               'name': 'star',\n",
      "               'nullable': True,\n",
      "               'references': None,\n",
      "               'size': None,\n",
      "               'type': 'VARCHAR',\n",
      "               'unique': False},\n",
      "              {'check': None,\n",
      "               'default': None,\n",
      "               'name': 'company',\n",
      "               'nullable': True,\n",
      "               'references': None,\n",
      "               'size': None,\n",
      "               'type': 'VARCHAR',\n",
      "               'unique': False},\n",
      "              {'check': None,\n",
      "               'default': None,\n",
      "               'name': 'runtime',\n",
      "               'nullable': True,\n",
      "               'references': None,\n",
      "               'size': None,\n",
      "               'type': 'INT',\n",
      "               'unique': False}],\n",
      "  'external': False,\n",
      "  'fields_terminated_by': None,\n",
      "  'index': [],\n",
      "  'lines_terminated_by': None,\n",
      "  'map_keys_terminated_by': None,\n",
      "  'partitioned_by': [],\n",
      "  'primary_key': [],\n",
      "  'row_format': None,\n",
      "  'schema': None,\n",
      "  'stored_as': None,\n",
      "  'table_name': 'MOVIES',\n",
      "  'tablespace': None,\n",
      "  'temp': False}]\n"
     ]
    }
   ],
   "source": [
    "ddl_validator.print_ddl()"
   ]
  },
  {
   "cell_type": "code",
   "execution_count": null,
   "metadata": {},
   "outputs": [
    {
     "data": {
      "text/plain": [
       "{'movies': {'subject_area': 'movies',\n",
       "  'table_info': [{'table': 'MOVIES', 'joins': []}],\n",
       "  'columns': {'name': {'name': 'content rating',\n",
       "    'type': 'varchar',\n",
       "    'column': 'rating',\n",
       "    'desc': 'Content rating (e.g., R, PG-13)',\n",
       "    'fetch': False},\n",
       "   'genre': {'name': 'genre of the movie',\n",
       "    'type': 'varchar',\n",
       "    'column': 'genre',\n",
       "    'desc': 'Genre of the movie',\n",
       "    'fetch': True},\n",
       "   'year': {'name': 'production or release year',\n",
       "    'type': 'int',\n",
       "    'column': 'year',\n",
       "    'desc': 'Original production/release year in home country',\n",
       "    'fetch': True},\n",
       "   'released_date': {'name': 'release date',\n",
       "    'type': 'date',\n",
       "    'column': 'released_date',\n",
       "    'desc': 'release date of a movie',\n",
       "    'fetch': True},\n",
       "   'released_country': {'name': 'release country',\n",
       "    'type': 'varchar',\n",
       "    'column': 'released_country',\n",
       "    'desc': 'Country where the movie was released',\n",
       "    'fetch': False},\n",
       "   'country': {'name': 'production country',\n",
       "    'type': 'varchar',\n",
       "    'column': 'country',\n",
       "    'desc': 'Production country (e.g., Denmark, United States)',\n",
       "    'fetch': False},\n",
       "   'score': {'name': 'average rating',\n",
       "    'type': 'number',\n",
       "    'column': 'score',\n",
       "    'desc': 'Average rating (e.g., 7.7)',\n",
       "    'fetch': True},\n",
       "   'votes': {'name': 'number of votes or reviews',\n",
       "    'type': 'int',\n",
       "    'column': 'votes',\n",
       "    'desc': 'Number of votes/reviews',\n",
       "    'fetch': False},\n",
       "   'budget': {'name': 'production budget',\n",
       "    'type': 'number',\n",
       "    'column': 'budget',\n",
       "    'desc': 'Production budget',\n",
       "    'fetch': False},\n",
       "   'gross': {'name': 'box office gross',\n",
       "    'type': 'number',\n",
       "    'column': 'gross',\n",
       "    'desc': 'Box office gross',\n",
       "    'fetch': False},\n",
       "   'director': {'name': 'director of the movie',\n",
       "    'type': 'varchar',\n",
       "    'column': 'director',\n",
       "    'desc': 'Director of the movie',\n",
       "    'fetch': False},\n",
       "   'writer': {'name': 'screenwriter',\n",
       "    'type': 'varchar',\n",
       "    'column': 'writer',\n",
       "    'desc': 'Screenwriter of the movie',\n",
       "    'fetch': False},\n",
       "   'star': {'name': 'lead actor',\n",
       "    'type': 'varchar',\n",
       "    'column': 'star',\n",
       "    'desc': 'Lead actor of the movie',\n",
       "    'fetch': True},\n",
       "   'company': {'name': 'production company',\n",
       "    'type': 'varchar',\n",
       "    'column': 'company',\n",
       "    'desc': 'Production company of the movie',\n",
       "    'fetch': False},\n",
       "   'runtime': {'name': 'duration in minutes',\n",
       "    'type': 'int',\n",
       "    'column': 'runtime',\n",
       "    'desc': 'Duration of the movie in minutes',\n",
       "    'fetch': True}}}}"
      ]
     },
     "execution_count": 12,
     "metadata": {},
     "output_type": "execute_result"
    }
   ],
   "source": [
    "yaml_file"
   ]
  },
  {
   "cell_type": "code",
   "execution_count": null,
   "metadata": {},
   "outputs": [
    {
     "name": "stdout",
     "output_type": "stream",
     "text": [
      "['name', 'genre', 'year', 'released_date', 'released_country', 'country', 'score', 'votes', 'budget', 'gross', 'director', 'writer', 'star', 'company', 'runtime']\n"
     ]
    },
    {
     "ename": "ValueError",
     "evalue": "DDL column 'name' not found in schema.",
     "output_type": "error",
     "traceback": [
      "\u001b[0;31m---------------------------------------------------------------------------\u001b[0m",
      "\u001b[0;31mValueError\u001b[0m                                Traceback (most recent call last)",
      "Cell \u001b[0;32mIn[13], line 1\u001b[0m\n\u001b[0;32m----> 1\u001b[0m \u001b[43mddl_validator\u001b[49m\u001b[38;5;241;43m.\u001b[39;49m\u001b[43mvalidate_schema\u001b[49m\u001b[43m(\u001b[49m\u001b[43myaml_file\u001b[49m\u001b[43m)\u001b[49m\n",
      "File \u001b[0;32m~/Documents/Repositories/Extras/Inteliome Schema Validator/pyvalidator/schema_validator.py:68\u001b[0m, in \u001b[0;36mSchemaValidator.validate_schema\u001b[0;34m(self, generated_schema)\u001b[0m\n\u001b[1;32m     65\u001b[0m ddl_col_type \u001b[38;5;241m=\u001b[39m ddl_col[\u001b[38;5;124m'\u001b[39m\u001b[38;5;124mtype\u001b[39m\u001b[38;5;124m'\u001b[39m]\u001b[38;5;241m.\u001b[39mupper()\n\u001b[1;32m     67\u001b[0m \u001b[38;5;28;01mif\u001b[39;00m ddl_col_name \u001b[38;5;129;01mnot\u001b[39;00m \u001b[38;5;129;01min\u001b[39;00m \u001b[38;5;28mlist\u001b[39m(schema_columns\u001b[38;5;241m.\u001b[39mkeys()):\n\u001b[0;32m---> 68\u001b[0m     \u001b[38;5;28;01mraise\u001b[39;00m \u001b[38;5;167;01mValueError\u001b[39;00m(\u001b[38;5;124mf\u001b[39m\u001b[38;5;124m\"\u001b[39m\u001b[38;5;124mDDL column \u001b[39m\u001b[38;5;124m'\u001b[39m\u001b[38;5;132;01m{\u001b[39;00mddl_col_name\u001b[38;5;132;01m}\u001b[39;00m\u001b[38;5;124m'\u001b[39m\u001b[38;5;124m not found in schema.\u001b[39m\u001b[38;5;124m\"\u001b[39m)\n\u001b[1;32m     70\u001b[0m schema_col_type \u001b[38;5;241m=\u001b[39m schema_columns[ddl_col_name]\u001b[38;5;241m.\u001b[39mtype\u001b[38;5;241m.\u001b[39mupper()\n\u001b[1;32m     71\u001b[0m \u001b[38;5;28;01mif\u001b[39;00m \u001b[38;5;129;01mnot\u001b[39;00m \u001b[38;5;28mself\u001b[39m\u001b[38;5;241m.\u001b[39mtypes_are_equivalent(ddl_col_type, schema_col_type):\n",
      "\u001b[0;31mValueError\u001b[0m: DDL column 'name' not found in schema."
     ]
    }
   ],
   "source": [
    "ddl_validator.validate_schema(yaml_file)"
   ]
  },
  {
   "cell_type": "code",
   "execution_count": null,
   "metadata": {},
   "outputs": [],
   "source": []
  }
 ],
 "metadata": {
  "kernelspec": {
   "display_name": "venv",
   "language": "python",
   "name": "python3"
  },
  "language_info": {
   "codemirror_mode": {
    "name": "ipython",
    "version": 3
   },
   "file_extension": ".py",
   "mimetype": "text/x-python",
   "name": "python",
   "nbconvert_exporter": "python",
   "pygments_lexer": "ipython3",
   "version": "3.10.9"
  }
 },
 "nbformat": 4,
 "nbformat_minor": 2
}
